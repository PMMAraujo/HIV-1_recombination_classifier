{
  "nbformat": 4,
  "nbformat_minor": 0,
  "metadata": {
    "accelerator": "GPU",
    "colab": {
      "name": "model_creation_and_experimentation.ipynb",
      "provenance": [],
      "collapsed_sections": []
    },
    "kernelspec": {
      "display_name": "learn",
      "language": "python",
      "name": "learn"
    },
    "language_info": {
      "codemirror_mode": {
        "name": "ipython",
        "version": 3
      },
      "file_extension": ".py",
      "mimetype": "text/x-python",
      "name": "python",
      "nbconvert_exporter": "python",
      "pygments_lexer": "ipython3",
      "version": "3.6.10"
    }
  },
  "cells": [
    {
      "cell_type": "markdown",
      "metadata": {
        "Collapsed": "false",
        "id": "S9Hx_lV5TbSM",
        "colab_type": "text"
      },
      "source": [
        "# Import data"
      ]
    },
    {
      "cell_type": "code",
      "metadata": {
        "Collapsed": "false",
        "colab_type": "code",
        "id": "ujAWf66HHcTt",
        "colab": {
          "base_uri": "https://localhost:8080/",
          "height": 35
        },
        "outputId": "2e514f7a-c519-470f-b361-8a7b94d8f035"
      },
      "source": [
        "import pandas as pd\n",
        "\n",
        "df_nonB = pd.read_csv('./data/genomes_nonB.csv')\n",
        "df_nonB.shape"
      ],
      "execution_count": 29,
      "outputs": [
        {
          "output_type": "execute_result",
          "data": {
            "text/plain": [
              "(103476, 6)"
            ]
          },
          "metadata": {
            "tags": []
          },
          "execution_count": 29
        }
      ]
    },
    {
      "cell_type": "code",
      "metadata": {
        "Collapsed": "false",
        "colab_type": "code",
        "id": "146LnI3UD9P8",
        "colab": {
          "base_uri": "https://localhost:8080/",
          "height": 206
        },
        "outputId": "97db951b-cdb1-41aa-e7c3-7eb496ebbdd1"
      },
      "source": [
        "df_nonB.head()"
      ],
      "execution_count": 30,
      "outputs": [
        {
          "output_type": "execute_result",
          "data": {
            "text/html": [
              "<div>\n",
              "<style scoped>\n",
              "    .dataframe tbody tr th:only-of-type {\n",
              "        vertical-align: middle;\n",
              "    }\n",
              "\n",
              "    .dataframe tbody tr th {\n",
              "        vertical-align: top;\n",
              "    }\n",
              "\n",
              "    .dataframe thead th {\n",
              "        text-align: right;\n",
              "    }\n",
              "</style>\n",
              "<table border=\"1\" class=\"dataframe\">\n",
              "  <thead>\n",
              "    <tr style=\"text-align: right;\">\n",
              "      <th></th>\n",
              "      <th>Unnamed: 0</th>\n",
              "      <th>names</th>\n",
              "      <th>subtypes</th>\n",
              "      <th>seqs</th>\n",
              "      <th>len_seqs</th>\n",
              "      <th>recomb</th>\n",
              "    </tr>\n",
              "  </thead>\n",
              "  <tbody>\n",
              "    <tr>\n",
              "      <th>0</th>\n",
              "      <td>0</td>\n",
              "      <td>AY529677</td>\n",
              "      <td>C</td>\n",
              "      <td>atgagagtgatggggatacagaggaattgtcaacagtggtggatat...</td>\n",
              "      <td>2613</td>\n",
              "      <td>0</td>\n",
              "    </tr>\n",
              "    <tr>\n",
              "      <th>1</th>\n",
              "      <td>1</td>\n",
              "      <td>HQ595761</td>\n",
              "      <td>C</td>\n",
              "      <td>atgagagtgacggggatacggaagaattgtcaacaatggtggatat...</td>\n",
              "      <td>2535</td>\n",
              "      <td>0</td>\n",
              "    </tr>\n",
              "    <tr>\n",
              "      <th>2</th>\n",
              "      <td>2</td>\n",
              "      <td>HQ595746</td>\n",
              "      <td>C</td>\n",
              "      <td>atgagagtgatggggataacgaggaattgtcaacaatggtggatat...</td>\n",
              "      <td>2517</td>\n",
              "      <td>0</td>\n",
              "    </tr>\n",
              "    <tr>\n",
              "      <th>3</th>\n",
              "      <td>3</td>\n",
              "      <td>HM623585</td>\n",
              "      <td>C</td>\n",
              "      <td>atgagagtgagggggacatggaggaattatccacaatggtggatat...</td>\n",
              "      <td>2541</td>\n",
              "      <td>0</td>\n",
              "    </tr>\n",
              "    <tr>\n",
              "      <th>4</th>\n",
              "      <td>4</td>\n",
              "      <td>HM623566</td>\n",
              "      <td>C</td>\n",
              "      <td>atgagagtgaaggggatgcagaggaattgtccactatggtggatat...</td>\n",
              "      <td>2538</td>\n",
              "      <td>0</td>\n",
              "    </tr>\n",
              "  </tbody>\n",
              "</table>\n",
              "</div>"
            ],
            "text/plain": [
              "   Unnamed: 0     names  ... len_seqs recomb\n",
              "0           0  AY529677  ...     2613      0\n",
              "1           1  HQ595761  ...     2535      0\n",
              "2           2  HQ595746  ...     2517      0\n",
              "3           3  HM623585  ...     2541      0\n",
              "4           4  HM623566  ...     2538      0\n",
              "\n",
              "[5 rows x 6 columns]"
            ]
          },
          "metadata": {
            "tags": []
          },
          "execution_count": 30
        }
      ]
    },
    {
      "cell_type": "markdown",
      "metadata": {
        "Collapsed": "false",
        "id": "4xqRHEauTbS9",
        "colab_type": "text"
      },
      "source": [
        "# Convert genomes to trigrams"
      ]
    },
    {
      "cell_type": "code",
      "metadata": {
        "Collapsed": "false",
        "colab_type": "code",
        "id": "QGpRRSO1BMlD",
        "colab": {}
      },
      "source": [
        "sequences = df_nonB['seqs'].values"
      ],
      "execution_count": 31,
      "outputs": []
    },
    {
      "cell_type": "code",
      "metadata": {
        "Collapsed": "false",
        "colab_type": "code",
        "id": "k8mI7ImLBMlJ",
        "colab": {}
      },
      "source": [
        "from nltk import ngrams\n",
        "import numpy as np\n",
        "\n",
        "corpus = []\n",
        "for seq in sequences:\n",
        "    in_tri = np.array([''.join(i) for i in ngrams(seq, 3)])\n",
        "    corpus.append(in_tri)"
      ],
      "execution_count": 32,
      "outputs": []
    },
    {
      "cell_type": "code",
      "metadata": {
        "Collapsed": "false",
        "colab_type": "code",
        "id": "gk_mcVh5HcZ6",
        "colab": {}
      },
      "source": [
        "sentences = [' '.join(x) for x in corpus]\n",
        "\n",
        "y = df_nonB['recomb'].values"
      ],
      "execution_count": 33,
      "outputs": []
    },
    {
      "cell_type": "markdown",
      "metadata": {
        "Collapsed": "false",
        "id": "BKD2LqgDTbTm",
        "colab_type": "text"
      },
      "source": [
        "# Train test split"
      ]
    },
    {
      "cell_type": "code",
      "metadata": {
        "Collapsed": "false",
        "colab_type": "code",
        "id": "1jZ_UNUyHcbs",
        "colab": {}
      },
      "source": [
        "from sklearn.model_selection import train_test_split\n",
        "\n",
        "sentences_train, sentences_test, y_train, y_test = train_test_split(sentences,\n",
        "                                                y, test_size=0.25,\n",
        "                                                random_state=100, stratify=y)"
      ],
      "execution_count": 34,
      "outputs": []
    },
    {
      "cell_type": "markdown",
      "metadata": {
        "Collapsed": "false",
        "id": "sqVxouM8TbT1",
        "colab_type": "text"
      },
      "source": [
        "# Tokenize the ngrams"
      ]
    },
    {
      "cell_type": "code",
      "metadata": {
        "Collapsed": "false",
        "colab_type": "code",
        "id": "_ApOoN-yP8xY",
        "colab": {}
      },
      "source": [
        "from keras.preprocessing.text import Tokenizer\n",
        "\n",
        "tokenizer = Tokenizer(num_words=5000)\n",
        "tokenizer.fit_on_texts(sentences_train)\n",
        "\n",
        "X_train = tokenizer.texts_to_sequences(sentences_train)\n",
        "X_test = tokenizer.texts_to_sequences(sentences_test)\n",
        "\n",
        "vocab_size = len(tokenizer.word_index) + 1  # Adding 1 because of reserved 0 index"
      ],
      "execution_count": 35,
      "outputs": []
    },
    {
      "cell_type": "markdown",
      "metadata": {
        "Collapsed": "false",
        "id": "whOO5yF2TbUI",
        "colab_type": "text"
      },
      "source": [
        "# Padding to max 3000"
      ]
    },
    {
      "cell_type": "code",
      "metadata": {
        "Collapsed": "false",
        "colab_type": "code",
        "id": "c7E6VJELP82T",
        "colab": {
          "base_uri": "https://localhost:8080/",
          "height": 35
        },
        "outputId": "2938ab7d-770d-4a9d-eb5a-03d630eef25d"
      },
      "source": [
        "from keras.preprocessing.sequence import pad_sequences\n",
        "\n",
        "maxlen = 3000\n",
        "\n",
        "X_train = pad_sequences(X_train, padding='post', maxlen=maxlen)\n",
        "X_test = pad_sequences(X_test, padding='post', maxlen=maxlen)\n",
        "\n",
        "print(X_train[0, :])"
      ],
      "execution_count": 36,
      "outputs": [
        {
          "output_type": "stream",
          "text": [
            "[54 23 40 ...  0  0  0]\n"
          ],
          "name": "stdout"
        }
      ]
    },
    {
      "cell_type": "markdown",
      "metadata": {
        "Collapsed": "false",
        "colab_type": "text",
        "id": "pb6BwhauFFuf"
      },
      "source": [
        "# Models"
      ]
    },
    {
      "cell_type": "code",
      "metadata": {
        "Collapsed": "false",
        "id": "H5kzHaGoTbUS",
        "colab_type": "code",
        "colab": {}
      },
      "source": [
        "import keras\n",
        "\n",
        "METRICS = [\n",
        "      keras.metrics.BinaryAccuracy(name='accuracy'),\n",
        "      keras.metrics.AUC(name='auc')]"
      ],
      "execution_count": 37,
      "outputs": []
    },
    {
      "cell_type": "code",
      "metadata": {
        "Collapsed": "false",
        "id": "Rwjda9LRTbUZ",
        "colab_type": "code",
        "colab": {}
      },
      "source": [
        "import tensorflow as tf\n",
        "\n",
        "early_stopping = tf.keras.callbacks.EarlyStopping(\n",
        "    monitor='val_auc', \n",
        "    verbose=1,\n",
        "    patience=5,\n",
        "    mode='max',\n",
        "    restore_best_weights=True)"
      ],
      "execution_count": 38,
      "outputs": []
    },
    {
      "cell_type": "markdown",
      "metadata": {
        "Collapsed": "false",
        "id": "vmltiMi4TbUf",
        "colab_type": "text"
      },
      "source": [
        "## Baseline model"
      ]
    },
    {
      "cell_type": "code",
      "metadata": {
        "Collapsed": "false",
        "colab_type": "code",
        "id": "szdI6pobP854",
        "colab": {
          "base_uri": "https://localhost:8080/",
          "height": 301
        },
        "outputId": "9c0e3a09-ba13-4910-af85-ceee585cfb67"
      },
      "source": [
        "from keras.models import Sequential\n",
        "from keras import layers\n",
        "\n",
        "embedding_dim = 50\n",
        "\n",
        "model = Sequential()\n",
        "model.add(layers.Embedding(input_dim=vocab_size, \n",
        "                           output_dim=embedding_dim, \n",
        "                           input_length=maxlen))\n",
        "model.add(layers.Flatten())\n",
        "model.add(layers.Dense(10, activation='relu'))\n",
        "model.add(layers.Dense(1, activation='sigmoid'))\n",
        "\n",
        "model.compile(optimizer='adam',\n",
        "              loss='binary_crossentropy',\n",
        "              metrics=[METRICS])\n",
        "\n",
        "model.summary()"
      ],
      "execution_count": 39,
      "outputs": [
        {
          "output_type": "stream",
          "text": [
            "Model: \"sequential_7\"\n",
            "_________________________________________________________________\n",
            "Layer (type)                 Output Shape              Param #   \n",
            "=================================================================\n",
            "embedding_7 (Embedding)      (None, 3000, 50)          83250     \n",
            "_________________________________________________________________\n",
            "flatten_3 (Flatten)          (None, 150000)            0         \n",
            "_________________________________________________________________\n",
            "dense_13 (Dense)             (None, 10)                1500010   \n",
            "_________________________________________________________________\n",
            "dense_14 (Dense)             (None, 1)                 11        \n",
            "=================================================================\n",
            "Total params: 1,583,271\n",
            "Trainable params: 1,583,271\n",
            "Non-trainable params: 0\n",
            "_________________________________________________________________\n"
          ],
          "name": "stdout"
        }
      ]
    },
    {
      "cell_type": "code",
      "metadata": {
        "Collapsed": "false",
        "colab_type": "code",
        "id": "ZNC0z0qOP89P",
        "colab": {
          "base_uri": "https://localhost:8080/",
          "height": 481
        },
        "outputId": "dfbd1bac-d50a-4931-e8a1-9ca0a356c36e"
      },
      "source": [
        "history = model.fit(X_train, y_train,\n",
        "                    epochs=30,\n",
        "                    verbose=True,\n",
        "                    validation_data=(X_test, y_test),\n",
        "                    callbacks = [early_stopping],\n",
        "                    batch_size=256)\n",
        "\n",
        "loss, accuracy, auc = model.evaluate(X_train, y_train, verbose=False)\n",
        "print(\"Training Accuracy: {:.4f}\".format(accuracy))\n",
        "print(\"Training AUC: {:.4f}\".format(auc))\n",
        "loss, accuracy, auc = model.evaluate(X_test, y_test, verbose=False)\n",
        "print(\"Testing Accuracy:  {:.4f}\".format(accuracy))\n",
        "print(\"Testing AUC:  {:.4f}\".format(auc))"
      ],
      "execution_count": 40,
      "outputs": [
        {
          "output_type": "stream",
          "text": [
            "/usr/local/lib/python3.6/dist-packages/tensorflow/python/framework/indexed_slices.py:434: UserWarning: Converting sparse IndexedSlices to a dense Tensor of unknown shape. This may consume a large amount of memory.\n",
            "  \"Converting sparse IndexedSlices to a dense Tensor of unknown shape. \"\n"
          ],
          "name": "stderr"
        },
        {
          "output_type": "stream",
          "text": [
            "Train on 77607 samples, validate on 25869 samples\n",
            "Epoch 1/10\n",
            "77607/77607 [==============================] - 13s 165us/step - loss: 0.1445 - accuracy: 0.9389 - auc: 0.9872 - val_loss: 0.0681 - val_accuracy: 0.9748 - val_auc: 0.9966\n",
            "Epoch 2/10\n",
            "77607/77607 [==============================] - 12s 159us/step - loss: 0.0439 - accuracy: 0.9852 - auc: 0.9982 - val_loss: 0.0689 - val_accuracy: 0.9759 - val_auc: 0.9960\n",
            "Epoch 3/10\n",
            "77607/77607 [==============================] - 12s 159us/step - loss: 0.0302 - accuracy: 0.9910 - auc: 0.9989 - val_loss: 0.0617 - val_accuracy: 0.9795 - val_auc: 0.9968\n",
            "Epoch 4/10\n",
            "77607/77607 [==============================] - 12s 159us/step - loss: 0.0221 - accuracy: 0.9937 - auc: 0.9993 - val_loss: 0.0625 - val_accuracy: 0.9795 - val_auc: 0.9963\n",
            "Epoch 5/10\n",
            "77607/77607 [==============================] - 12s 159us/step - loss: 0.0173 - accuracy: 0.9945 - auc: 0.9996 - val_loss: 0.0718 - val_accuracy: 0.9781 - val_auc: 0.9959\n",
            "Epoch 6/10\n",
            "77607/77607 [==============================] - 12s 158us/step - loss: 0.0169 - accuracy: 0.9951 - auc: 0.9995 - val_loss: 0.0725 - val_accuracy: 0.9798 - val_auc: 0.9955\n",
            "Epoch 7/10\n",
            "77607/77607 [==============================] - 12s 158us/step - loss: 0.0163 - accuracy: 0.9955 - auc: 0.9995 - val_loss: 0.0668 - val_accuracy: 0.9800 - val_auc: 0.9958\n",
            "Epoch 8/10\n",
            "77607/77607 [==============================] - 12s 158us/step - loss: 0.0124 - accuracy: 0.9963 - auc: 0.9997 - val_loss: 0.0667 - val_accuracy: 0.9800 - val_auc: 0.9962\n",
            "Restoring model weights from the end of the best epoch.\n",
            "Epoch 00008: early stopping\n",
            "Training Accuracy: 0.9945\n",
            "Training AUC: 0.9994\n",
            "Testing Accuracy:  0.9795\n",
            "Testing AUC:  0.9968\n"
          ],
          "name": "stdout"
        }
      ]
    },
    {
      "cell_type": "markdown",
      "metadata": {
        "Collapsed": "false",
        "colab_type": "text",
        "id": "NTh6boP5FRXn"
      },
      "source": [
        "## Add a conv1d"
      ]
    },
    {
      "cell_type": "code",
      "metadata": {
        "Collapsed": "false",
        "colab_type": "code",
        "id": "gl33oLgGHcgq",
        "colab": {
          "base_uri": "https://localhost:8080/",
          "height": 337
        },
        "outputId": "25b0e7c5-721d-404a-8245-eb4c042938e1"
      },
      "source": [
        "embedding_dim = 50\n",
        "\n",
        "METRICS = [\n",
        "      keras.metrics.BinaryAccuracy(name='accuracy'),\n",
        "      keras.metrics.AUC(name='auc')]\n",
        "\n",
        "\n",
        "\n",
        "model = Sequential()\n",
        "model.add(layers.Embedding(vocab_size, embedding_dim, input_length=maxlen))\n",
        "model.add(layers.Conv1D(128, 5, activation='relu'))\n",
        "model.add(layers.GlobalMaxPooling1D())\n",
        "model.add(layers.Dense(10, activation='relu'))\n",
        "model.add(layers.Dense(1, activation='sigmoid'))\n",
        "model.compile(optimizer='adam',\n",
        "              loss='binary_crossentropy',\n",
        "              metrics=METRICS)\n",
        "model.summary()"
      ],
      "execution_count": 47,
      "outputs": [
        {
          "output_type": "stream",
          "text": [
            "Model: \"sequential_11\"\n",
            "_________________________________________________________________\n",
            "Layer (type)                 Output Shape              Param #   \n",
            "=================================================================\n",
            "embedding_11 (Embedding)     (None, 3000, 50)          83250     \n",
            "_________________________________________________________________\n",
            "conv1d_4 (Conv1D)            (None, 2996, 128)         32128     \n",
            "_________________________________________________________________\n",
            "global_max_pooling1d_8 (Glob (None, 128)               0         \n",
            "_________________________________________________________________\n",
            "dense_21 (Dense)             (None, 10)                1290      \n",
            "_________________________________________________________________\n",
            "dense_22 (Dense)             (None, 1)                 11        \n",
            "=================================================================\n",
            "Total params: 116,679\n",
            "Trainable params: 116,679\n",
            "Non-trainable params: 0\n",
            "_________________________________________________________________\n"
          ],
          "name": "stdout"
        }
      ]
    },
    {
      "cell_type": "code",
      "metadata": {
        "Collapsed": "false",
        "colab_type": "code",
        "id": "NkwhX-sNRY_k",
        "colab": {
          "base_uri": "https://localhost:8080/",
          "height": 729
        },
        "outputId": "ba182d79-70b5-4796-a6b9-3b06364b3816"
      },
      "source": [
        "history = model.fit(X_train, y_train,\n",
        "                    epochs=30,\n",
        "                    verbose=True,\n",
        "                    validation_data=(X_test, y_test),\n",
        "                    callbacks = [early_stopping],\n",
        "                    batch_size=256)\n",
        "\n",
        "loss, accuracy, auc = model.evaluate(X_train, y_train, verbose=False)\n",
        "print(\"Training Accuracy: {:.4f}\".format(accuracy))\n",
        "print(\"Training AUC: {:.4f}\".format(auc))\n",
        "loss, accuracy, auc = model.evaluate(X_test, y_test, verbose=False)\n",
        "print(\"Testing Accuracy:  {:.4f}\".format(accuracy))\n",
        "print(\"Testing AUC:  {:.4f}\".format(auc))"
      ],
      "execution_count": 48,
      "outputs": [
        {
          "output_type": "stream",
          "text": [
            "/usr/local/lib/python3.6/dist-packages/tensorflow/python/framework/indexed_slices.py:434: UserWarning: Converting sparse IndexedSlices to a dense Tensor of unknown shape. This may consume a large amount of memory.\n",
            "  \"Converting sparse IndexedSlices to a dense Tensor of unknown shape. \"\n"
          ],
          "name": "stderr"
        },
        {
          "output_type": "stream",
          "text": [
            "Train on 77607 samples, validate on 25869 samples\n",
            "Epoch 1/30\n",
            "77607/77607 [==============================] - 62s 797us/step - loss: 0.2165 - accuracy: 0.9024 - auc: 0.9759 - val_loss: 0.0683 - val_accuracy: 0.9782 - val_auc: 0.9970\n",
            "Epoch 2/30\n",
            "77607/77607 [==============================] - 61s 785us/step - loss: 0.0570 - accuracy: 0.9807 - auc: 0.9976 - val_loss: 0.0486 - val_accuracy: 0.9846 - val_auc: 0.9980\n",
            "Epoch 3/30\n",
            "77607/77607 [==============================] - 61s 786us/step - loss: 0.0440 - accuracy: 0.9854 - auc: 0.9984 - val_loss: 0.0447 - val_accuracy: 0.9860 - val_auc: 0.9984\n",
            "Epoch 4/30\n",
            "77607/77607 [==============================] - 61s 786us/step - loss: 0.0377 - accuracy: 0.9874 - auc: 0.9987 - val_loss: 0.0468 - val_accuracy: 0.9853 - val_auc: 0.9983\n",
            "Epoch 5/30\n",
            "77607/77607 [==============================] - 61s 785us/step - loss: 0.0340 - accuracy: 0.9888 - auc: 0.9989 - val_loss: 0.0383 - val_accuracy: 0.9879 - val_auc: 0.9985\n",
            "Epoch 6/30\n",
            "77607/77607 [==============================] - 61s 787us/step - loss: 0.0312 - accuracy: 0.9895 - auc: 0.9990 - val_loss: 0.0368 - val_accuracy: 0.9879 - val_auc: 0.9985\n",
            "Epoch 7/30\n",
            "77607/77607 [==============================] - 61s 787us/step - loss: 0.0289 - accuracy: 0.9907 - auc: 0.9990 - val_loss: 0.0368 - val_accuracy: 0.9876 - val_auc: 0.9984\n",
            "Epoch 8/30\n",
            "77607/77607 [==============================] - 61s 788us/step - loss: 0.0264 - accuracy: 0.9913 - auc: 0.9992 - val_loss: 0.0344 - val_accuracy: 0.9890 - val_auc: 0.9985\n",
            "Epoch 9/30\n",
            "77607/77607 [==============================] - 61s 788us/step - loss: 0.0250 - accuracy: 0.9919 - auc: 0.9992 - val_loss: 0.0363 - val_accuracy: 0.9886 - val_auc: 0.9983\n",
            "Epoch 10/30\n",
            "77607/77607 [==============================] - 61s 786us/step - loss: 0.0228 - accuracy: 0.9927 - auc: 0.9993 - val_loss: 0.0332 - val_accuracy: 0.9894 - val_auc: 0.9987\n",
            "Epoch 11/30\n",
            "77607/77607 [==============================] - 61s 786us/step - loss: 0.0220 - accuracy: 0.9929 - auc: 0.9993 - val_loss: 0.0396 - val_accuracy: 0.9865 - val_auc: 0.9984\n",
            "Epoch 12/30\n",
            "77607/77607 [==============================] - 61s 784us/step - loss: 0.0207 - accuracy: 0.9934 - auc: 0.9994 - val_loss: 0.0386 - val_accuracy: 0.9888 - val_auc: 0.9983\n",
            "Epoch 13/30\n",
            "77607/77607 [==============================] - 61s 785us/step - loss: 0.0190 - accuracy: 0.9937 - auc: 0.9995 - val_loss: 0.0348 - val_accuracy: 0.9892 - val_auc: 0.9983\n",
            "Epoch 14/30\n",
            "77607/77607 [==============================] - 61s 784us/step - loss: 0.0203 - accuracy: 0.9933 - auc: 0.9994 - val_loss: 0.0354 - val_accuracy: 0.9897 - val_auc: 0.9984\n",
            "Epoch 15/30\n",
            "77607/77607 [==============================] - 61s 785us/step - loss: 0.0172 - accuracy: 0.9946 - auc: 0.9995 - val_loss: 0.0367 - val_accuracy: 0.9881 - val_auc: 0.9981\n",
            "Restoring model weights from the end of the best epoch.\n",
            "Epoch 00015: early stopping\n",
            "Training Accuracy: 0.9944\n",
            "Training AUC: 0.9996\n",
            "Testing Accuracy:  0.9894\n",
            "Testing AUC:  0.9987\n"
          ],
          "name": "stdout"
        }
      ]
    },
    {
      "cell_type": "code",
      "metadata": {
        "Collapsed": "false",
        "colab_type": "code",
        "id": "EJ9uYPqTRZDP",
        "colab": {
          "base_uri": "https://localhost:8080/",
          "height": 177
        },
        "outputId": "b6750e14-5654-40ab-b32b-eebf60b08fd4"
      },
      "source": [
        "from sklearn.metrics import classification_report\n",
        "\n",
        "y_pred = model.predict_classes(X_test)\n",
        "print(classification_report(y_test, y_pred))"
      ],
      "execution_count": 49,
      "outputs": [
        {
          "output_type": "stream",
          "text": [
            "              precision    recall  f1-score   support\n",
            "\n",
            "           0       0.99      0.99      0.99     15034\n",
            "           1       0.99      0.99      0.99     10835\n",
            "\n",
            "    accuracy                           0.99     25869\n",
            "   macro avg       0.99      0.99      0.99     25869\n",
            "weighted avg       0.99      0.99      0.99     25869\n",
            "\n"
          ],
          "name": "stdout"
        }
      ]
    },
    {
      "cell_type": "code",
      "metadata": {
        "id": "wjncx0vMmjqc",
        "colab_type": "code",
        "colab": {}
      },
      "source": [
        ""
      ],
      "execution_count": null,
      "outputs": []
    }
  ]
}