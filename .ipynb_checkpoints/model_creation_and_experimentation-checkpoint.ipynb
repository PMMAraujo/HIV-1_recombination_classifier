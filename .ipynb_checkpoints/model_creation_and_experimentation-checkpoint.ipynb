{
 "cells": [
  {
   "cell_type": "markdown",
   "metadata": {
    "Collapsed": "false"
   },
   "source": [
    "# Import data"
   ]
  },
  {
   "cell_type": "code",
   "execution_count": 3,
   "metadata": {
    "Collapsed": "false",
    "colab": {
     "base_uri": "https://localhost:8080/",
     "height": 35
    },
    "colab_type": "code",
    "executionInfo": {
     "elapsed": 26932,
     "status": "ok",
     "timestamp": 1593433946681,
     "user": {
      "displayName": "Pedro Araujo",
      "photoUrl": "https://lh3.googleusercontent.com/a-/AOh14GgaaA6a8dClaQ5PVOJQQFwKI6GGX6XilWU9ykwRzA=s64",
      "userId": "16555094592329535647"
     },
     "user_tz": -60
    },
    "id": "ujAWf66HHcTt",
    "outputId": "58a7f867-7307-4ca6-aae2-d27ebd95396c"
   },
   "outputs": [
    {
     "data": {
      "text/plain": [
       "(103476, 6)"
      ]
     },
     "execution_count": 3,
     "metadata": {},
     "output_type": "execute_result"
    }
   ],
   "source": [
    "import pandas as pd\n",
    "\n",
    "df_nonB = pd.read_csv('./data/genomes_nonB.csv')\n",
    "df_nonB.shape"
   ]
  },
  {
   "cell_type": "code",
   "execution_count": 4,
   "metadata": {
    "Collapsed": "false",
    "colab": {
     "base_uri": "https://localhost:8080/",
     "height": 424
    },
    "colab_type": "code",
    "executionInfo": {
     "elapsed": 26436,
     "status": "ok",
     "timestamp": 1593433946685,
     "user": {
      "displayName": "Pedro Araujo",
      "photoUrl": "https://lh3.googleusercontent.com/a-/AOh14GgaaA6a8dClaQ5PVOJQQFwKI6GGX6XilWU9ykwRzA=s64",
      "userId": "16555094592329535647"
     },
     "user_tz": -60
    },
    "id": "146LnI3UD9P8",
    "outputId": "2f13856e-039c-4cad-ad5a-31552f966bcc"
   },
   "outputs": [
    {
     "data": {
      "text/html": [
       "<div>\n",
       "<style scoped>\n",
       "    .dataframe tbody tr th:only-of-type {\n",
       "        vertical-align: middle;\n",
       "    }\n",
       "\n",
       "    .dataframe tbody tr th {\n",
       "        vertical-align: top;\n",
       "    }\n",
       "\n",
       "    .dataframe thead th {\n",
       "        text-align: right;\n",
       "    }\n",
       "</style>\n",
       "<table border=\"1\" class=\"dataframe\">\n",
       "  <thead>\n",
       "    <tr style=\"text-align: right;\">\n",
       "      <th></th>\n",
       "      <th>Unnamed: 0</th>\n",
       "      <th>names</th>\n",
       "      <th>subtypes</th>\n",
       "      <th>seqs</th>\n",
       "      <th>len_seqs</th>\n",
       "      <th>recomb</th>\n",
       "    </tr>\n",
       "  </thead>\n",
       "  <tbody>\n",
       "    <tr>\n",
       "      <th>0</th>\n",
       "      <td>0</td>\n",
       "      <td>AY529677</td>\n",
       "      <td>C</td>\n",
       "      <td>atgagagtgatggggatacagaggaattgtcaacagtggtggatat...</td>\n",
       "      <td>2613</td>\n",
       "      <td>0</td>\n",
       "    </tr>\n",
       "    <tr>\n",
       "      <th>1</th>\n",
       "      <td>1</td>\n",
       "      <td>HQ595761</td>\n",
       "      <td>C</td>\n",
       "      <td>atgagagtgacggggatacggaagaattgtcaacaatggtggatat...</td>\n",
       "      <td>2535</td>\n",
       "      <td>0</td>\n",
       "    </tr>\n",
       "    <tr>\n",
       "      <th>2</th>\n",
       "      <td>2</td>\n",
       "      <td>HQ595746</td>\n",
       "      <td>C</td>\n",
       "      <td>atgagagtgatggggataacgaggaattgtcaacaatggtggatat...</td>\n",
       "      <td>2517</td>\n",
       "      <td>0</td>\n",
       "    </tr>\n",
       "    <tr>\n",
       "      <th>3</th>\n",
       "      <td>3</td>\n",
       "      <td>HM623585</td>\n",
       "      <td>C</td>\n",
       "      <td>atgagagtgagggggacatggaggaattatccacaatggtggatat...</td>\n",
       "      <td>2541</td>\n",
       "      <td>0</td>\n",
       "    </tr>\n",
       "    <tr>\n",
       "      <th>4</th>\n",
       "      <td>4</td>\n",
       "      <td>HM623566</td>\n",
       "      <td>C</td>\n",
       "      <td>atgagagtgaaggggatgcagaggaattgtccactatggtggatat...</td>\n",
       "      <td>2538</td>\n",
       "      <td>0</td>\n",
       "    </tr>\n",
       "  </tbody>\n",
       "</table>\n",
       "</div>"
      ],
      "text/plain": [
       "   Unnamed: 0     names subtypes  \\\n",
       "0           0  AY529677        C   \n",
       "1           1  HQ595761        C   \n",
       "2           2  HQ595746        C   \n",
       "3           3  HM623585        C   \n",
       "4           4  HM623566        C   \n",
       "\n",
       "                                                seqs  len_seqs  recomb  \n",
       "0  atgagagtgatggggatacagaggaattgtcaacagtggtggatat...      2613       0  \n",
       "1  atgagagtgacggggatacggaagaattgtcaacaatggtggatat...      2535       0  \n",
       "2  atgagagtgatggggataacgaggaattgtcaacaatggtggatat...      2517       0  \n",
       "3  atgagagtgagggggacatggaggaattatccacaatggtggatat...      2541       0  \n",
       "4  atgagagtgaaggggatgcagaggaattgtccactatggtggatat...      2538       0  "
      ]
     },
     "execution_count": 4,
     "metadata": {},
     "output_type": "execute_result"
    }
   ],
   "source": [
    "df_nonB.head()"
   ]
  },
  {
   "cell_type": "markdown",
   "metadata": {
    "Collapsed": "false"
   },
   "source": [
    "# Convert genomes to trigrams"
   ]
  },
  {
   "cell_type": "code",
   "execution_count": 5,
   "metadata": {
    "Collapsed": "false",
    "colab": {},
    "colab_type": "code",
    "executionInfo": {
     "elapsed": 28659,
     "status": "ok",
     "timestamp": 1593429476606,
     "user": {
      "displayName": "Pedro Araujo",
      "photoUrl": "https://lh3.googleusercontent.com/a-/AOh14GgaaA6a8dClaQ5PVOJQQFwKI6GGX6XilWU9ykwRzA=s64",
      "userId": "16555094592329535647"
     },
     "user_tz": -60
    },
    "id": "QGpRRSO1BMlD"
   },
   "outputs": [],
   "source": [
    "sequences = df_nonB['seqs'].values"
   ]
  },
  {
   "cell_type": "code",
   "execution_count": 6,
   "metadata": {
    "Collapsed": "false",
    "colab": {},
    "colab_type": "code",
    "executionInfo": {
     "elapsed": 114154,
     "status": "ok",
     "timestamp": 1593429562106,
     "user": {
      "displayName": "Pedro Araujo",
      "photoUrl": "https://lh3.googleusercontent.com/a-/AOh14GgaaA6a8dClaQ5PVOJQQFwKI6GGX6XilWU9ykwRzA=s64",
      "userId": "16555094592329535647"
     },
     "user_tz": -60
    },
    "id": "k8mI7ImLBMlJ"
   },
   "outputs": [],
   "source": [
    "from nltk import ngrams\n",
    "import numpy as np\n",
    "\n",
    "corpus = []\n",
    "for seq in sequences:\n",
    "    in_tri = np.array([''.join(i) for i in ngrams(seq, 3)])\n",
    "    corpus.append(in_tri)"
   ]
  },
  {
   "cell_type": "code",
   "execution_count": 7,
   "metadata": {
    "Collapsed": "false",
    "colab": {},
    "colab_type": "code",
    "executionInfo": {
     "elapsed": 125512,
     "status": "ok",
     "timestamp": 1593429600040,
     "user": {
      "displayName": "Pedro Araujo",
      "photoUrl": "https://lh3.googleusercontent.com/a-/AOh14GgaaA6a8dClaQ5PVOJQQFwKI6GGX6XilWU9ykwRzA=s64",
      "userId": "16555094592329535647"
     },
     "user_tz": -60
    },
    "id": "gk_mcVh5HcZ6"
   },
   "outputs": [],
   "source": [
    "sentences = [' '.join(x) for x in corpus]\n",
    "\n",
    "y = df_nonB['recomb'].values"
   ]
  },
  {
   "cell_type": "markdown",
   "metadata": {
    "Collapsed": "false"
   },
   "source": [
    "# Train test split"
   ]
  },
  {
   "cell_type": "code",
   "execution_count": 8,
   "metadata": {
    "Collapsed": "false",
    "colab": {},
    "colab_type": "code",
    "executionInfo": {
     "elapsed": 125166,
     "status": "ok",
     "timestamp": 1593429600046,
     "user": {
      "displayName": "Pedro Araujo",
      "photoUrl": "https://lh3.googleusercontent.com/a-/AOh14GgaaA6a8dClaQ5PVOJQQFwKI6GGX6XilWU9ykwRzA=s64",
      "userId": "16555094592329535647"
     },
     "user_tz": -60
    },
    "id": "1jZ_UNUyHcbs"
   },
   "outputs": [],
   "source": [
    "from sklearn.model_selection import train_test_split\n",
    "\n",
    "sentences_train, sentences_test, y_train, y_test = train_test_split(sentences,\n",
    "                                                y, test_size=0.25,\n",
    "                                                random_state=100, stratify=y)"
   ]
  },
  {
   "cell_type": "markdown",
   "metadata": {
    "Collapsed": "false"
   },
   "source": [
    "# Tokenize the ngrams"
   ]
  },
  {
   "cell_type": "code",
   "execution_count": 9,
   "metadata": {
    "Collapsed": "false",
    "colab": {
     "base_uri": "https://localhost:8080/",
     "height": 35
    },
    "colab_type": "code",
    "executionInfo": {
     "elapsed": 214773,
     "status": "ok",
     "timestamp": 1593429713626,
     "user": {
      "displayName": "Pedro Araujo",
      "photoUrl": "https://lh3.googleusercontent.com/a-/AOh14GgaaA6a8dClaQ5PVOJQQFwKI6GGX6XilWU9ykwRzA=s64",
      "userId": "16555094592329535647"
     },
     "user_tz": -60
    },
    "id": "_ApOoN-yP8xY",
    "outputId": "4f064a7e-ee9e-46ed-933e-33e34d947c29"
   },
   "outputs": [
    {
     "name": "stderr",
     "output_type": "stream",
     "text": [
      "Using TensorFlow backend.\n"
     ]
    }
   ],
   "source": [
    "from keras.preprocessing.text import Tokenizer\n",
    "\n",
    "tokenizer = Tokenizer(num_words=5000)\n",
    "tokenizer.fit_on_texts(sentences_train)\n",
    "\n",
    "X_train = tokenizer.texts_to_sequences(sentences_train)\n",
    "X_test = tokenizer.texts_to_sequences(sentences_test)\n",
    "\n",
    "vocab_size = len(tokenizer.word_index) + 1  # Adding 1 because of reserved 0 index\n",
    "\n",
    "#print(sentences_train[2])\n",
    "#print(X_train[2])"
   ]
  },
  {
   "cell_type": "code",
   "execution_count": null,
   "metadata": {
    "Collapsed": "false"
   },
   "outputs": [],
   "source": []
  },
  {
   "cell_type": "markdown",
   "metadata": {
    "Collapsed": "false"
   },
   "source": [
    "# Padding to max 3000"
   ]
  },
  {
   "cell_type": "code",
   "execution_count": 10,
   "metadata": {
    "Collapsed": "false",
    "colab": {
     "base_uri": "https://localhost:8080/",
     "height": 35
    },
    "colab_type": "code",
    "executionInfo": {
     "elapsed": 225356,
     "status": "ok",
     "timestamp": 1593429727459,
     "user": {
      "displayName": "Pedro Araujo",
      "photoUrl": "https://lh3.googleusercontent.com/a-/AOh14GgaaA6a8dClaQ5PVOJQQFwKI6GGX6XilWU9ykwRzA=s64",
      "userId": "16555094592329535647"
     },
     "user_tz": -60
    },
    "id": "c7E6VJELP82T",
    "outputId": "15d6fa00-fca2-4769-b3d4-c7b81bef73a4"
   },
   "outputs": [
    {
     "name": "stdout",
     "output_type": "stream",
     "text": [
      "[54 23 40 ...  0  0  0]\n"
     ]
    }
   ],
   "source": [
    "from keras.preprocessing.sequence import pad_sequences\n",
    "\n",
    "maxlen = 3000\n",
    "\n",
    "X_train = pad_sequences(X_train, padding='post', maxlen=maxlen)\n",
    "X_test = pad_sequences(X_test, padding='post', maxlen=maxlen)\n",
    "\n",
    "print(X_train[0, :])"
   ]
  },
  {
   "cell_type": "markdown",
   "metadata": {
    "Collapsed": "false",
    "colab_type": "text",
    "id": "pb6BwhauFFuf"
   },
   "source": [
    "# Models"
   ]
  },
  {
   "cell_type": "code",
   "execution_count": null,
   "metadata": {
    "Collapsed": "false"
   },
   "outputs": [],
   "source": [
    "import keras\n",
    "\n",
    "METRICS = [\n",
    "      keras.metrics.BinaryAccuracy(name='accuracy'),\n",
    "      keras.metrics.AUC(name='auc')]"
   ]
  },
  {
   "cell_type": "code",
   "execution_count": null,
   "metadata": {
    "Collapsed": "false"
   },
   "outputs": [],
   "source": [
    "early_stopping = tf.keras.callbacks.EarlyStopping(\n",
    "    monitor='val_auc', \n",
    "    verbose=1,\n",
    "    patience=5,\n",
    "    mode='max',\n",
    "    restore_best_weights=True)"
   ]
  },
  {
   "cell_type": "markdown",
   "metadata": {
    "Collapsed": "false"
   },
   "source": [
    "## Baseline model"
   ]
  },
  {
   "cell_type": "code",
   "execution_count": 11,
   "metadata": {
    "Collapsed": "false",
    "colab": {
     "base_uri": "https://localhost:8080/",
     "height": 301
    },
    "colab_type": "code",
    "executionInfo": {
     "elapsed": 69260,
     "status": "ok",
     "timestamp": 1593429735310,
     "user": {
      "displayName": "Pedro Araujo",
      "photoUrl": "https://lh3.googleusercontent.com/a-/AOh14GgaaA6a8dClaQ5PVOJQQFwKI6GGX6XilWU9ykwRzA=s64",
      "userId": "16555094592329535647"
     },
     "user_tz": -60
    },
    "id": "szdI6pobP854",
    "outputId": "8e1c2faf-eb13-4ce3-9a11-ce13d17446ad"
   },
   "outputs": [
    {
     "ename": "KeyboardInterrupt",
     "evalue": "",
     "output_type": "error",
     "traceback": [
      "\u001b[0;31m---------------------------------------------------------------------------\u001b[0m",
      "\u001b[0;31mKeyboardInterrupt\u001b[0m                         Traceback (most recent call last)",
      "\u001b[0;32m<ipython-input-11-60a49ad8653e>\u001b[0m in \u001b[0;36m<module>\u001b[0;34m\u001b[0m\n\u001b[1;32m      7\u001b[0m model.add(layers.Embedding(input_dim=vocab_size, \n\u001b[1;32m      8\u001b[0m                            \u001b[0moutput_dim\u001b[0m\u001b[0;34m=\u001b[0m\u001b[0membedding_dim\u001b[0m\u001b[0;34m,\u001b[0m\u001b[0;34m\u001b[0m\u001b[0;34m\u001b[0m\u001b[0m\n\u001b[0;32m----> 9\u001b[0;31m                            input_length=maxlen))\n\u001b[0m\u001b[1;32m     10\u001b[0m \u001b[0mmodel\u001b[0m\u001b[0;34m.\u001b[0m\u001b[0madd\u001b[0m\u001b[0;34m(\u001b[0m\u001b[0mlayers\u001b[0m\u001b[0;34m.\u001b[0m\u001b[0mFlatten\u001b[0m\u001b[0;34m(\u001b[0m\u001b[0;34m)\u001b[0m\u001b[0;34m)\u001b[0m\u001b[0;34m\u001b[0m\u001b[0;34m\u001b[0m\u001b[0m\n\u001b[1;32m     11\u001b[0m \u001b[0mmodel\u001b[0m\u001b[0;34m.\u001b[0m\u001b[0madd\u001b[0m\u001b[0;34m(\u001b[0m\u001b[0mlayers\u001b[0m\u001b[0;34m.\u001b[0m\u001b[0mDense\u001b[0m\u001b[0;34m(\u001b[0m\u001b[0;36m10\u001b[0m\u001b[0;34m,\u001b[0m \u001b[0mactivation\u001b[0m\u001b[0;34m=\u001b[0m\u001b[0;34m'relu'\u001b[0m\u001b[0;34m)\u001b[0m\u001b[0;34m)\u001b[0m\u001b[0;34m\u001b[0m\u001b[0;34m\u001b[0m\u001b[0m\n",
      "\u001b[0;32m~/anaconda3/envs/learn/lib/python3.6/site-packages/keras/engine/sequential.py\u001b[0m in \u001b[0;36madd\u001b[0;34m(self, layer)\u001b[0m\n\u001b[1;32m    164\u001b[0m                     \u001b[0;31m# and create the node connecting the current layer\u001b[0m\u001b[0;34m\u001b[0m\u001b[0;34m\u001b[0m\u001b[0;34m\u001b[0m\u001b[0m\n\u001b[1;32m    165\u001b[0m                     \u001b[0;31m# to the input layer we just created.\u001b[0m\u001b[0;34m\u001b[0m\u001b[0;34m\u001b[0m\u001b[0;34m\u001b[0m\u001b[0m\n\u001b[0;32m--> 166\u001b[0;31m                     \u001b[0mlayer\u001b[0m\u001b[0;34m(\u001b[0m\u001b[0mx\u001b[0m\u001b[0;34m)\u001b[0m\u001b[0;34m\u001b[0m\u001b[0;34m\u001b[0m\u001b[0m\n\u001b[0m\u001b[1;32m    167\u001b[0m                     \u001b[0mset_inputs\u001b[0m \u001b[0;34m=\u001b[0m \u001b[0;32mTrue\u001b[0m\u001b[0;34m\u001b[0m\u001b[0;34m\u001b[0m\u001b[0m\n\u001b[1;32m    168\u001b[0m             \u001b[0;32melse\u001b[0m\u001b[0;34m:\u001b[0m\u001b[0;34m\u001b[0m\u001b[0;34m\u001b[0m\u001b[0m\n",
      "\u001b[0;32m~/anaconda3/envs/learn/lib/python3.6/site-packages/keras/backend/tensorflow_backend.py\u001b[0m in \u001b[0;36msymbolic_fn_wrapper\u001b[0;34m(*args, **kwargs)\u001b[0m\n\u001b[1;32m     73\u001b[0m         \u001b[0;32mif\u001b[0m \u001b[0m_SYMBOLIC_SCOPE\u001b[0m\u001b[0;34m.\u001b[0m\u001b[0mvalue\u001b[0m\u001b[0;34m:\u001b[0m\u001b[0;34m\u001b[0m\u001b[0;34m\u001b[0m\u001b[0m\n\u001b[1;32m     74\u001b[0m             \u001b[0;32mwith\u001b[0m \u001b[0mget_graph\u001b[0m\u001b[0;34m(\u001b[0m\u001b[0;34m)\u001b[0m\u001b[0;34m.\u001b[0m\u001b[0mas_default\u001b[0m\u001b[0;34m(\u001b[0m\u001b[0;34m)\u001b[0m\u001b[0;34m:\u001b[0m\u001b[0;34m\u001b[0m\u001b[0;34m\u001b[0m\u001b[0m\n\u001b[0;32m---> 75\u001b[0;31m                 \u001b[0;32mreturn\u001b[0m \u001b[0mfunc\u001b[0m\u001b[0;34m(\u001b[0m\u001b[0;34m*\u001b[0m\u001b[0margs\u001b[0m\u001b[0;34m,\u001b[0m \u001b[0;34m**\u001b[0m\u001b[0mkwargs\u001b[0m\u001b[0;34m)\u001b[0m\u001b[0;34m\u001b[0m\u001b[0;34m\u001b[0m\u001b[0m\n\u001b[0m\u001b[1;32m     76\u001b[0m         \u001b[0;32melse\u001b[0m\u001b[0;34m:\u001b[0m\u001b[0;34m\u001b[0m\u001b[0;34m\u001b[0m\u001b[0m\n\u001b[1;32m     77\u001b[0m             \u001b[0;32mreturn\u001b[0m \u001b[0mfunc\u001b[0m\u001b[0;34m(\u001b[0m\u001b[0;34m*\u001b[0m\u001b[0margs\u001b[0m\u001b[0;34m,\u001b[0m \u001b[0;34m**\u001b[0m\u001b[0mkwargs\u001b[0m\u001b[0;34m)\u001b[0m\u001b[0;34m\u001b[0m\u001b[0;34m\u001b[0m\u001b[0m\n",
      "\u001b[0;32m~/anaconda3/envs/learn/lib/python3.6/site-packages/keras/engine/base_layer.py\u001b[0m in \u001b[0;36m__call__\u001b[0;34m(self, inputs, **kwargs)\u001b[0m\n\u001b[1;32m    461\u001b[0m                                          \u001b[0;34m'You can build it manually via: '\u001b[0m\u001b[0;34m\u001b[0m\u001b[0;34m\u001b[0m\u001b[0m\n\u001b[1;32m    462\u001b[0m                                          '`layer.build(batch_input_shape)`')\n\u001b[0;32m--> 463\u001b[0;31m                 \u001b[0mself\u001b[0m\u001b[0;34m.\u001b[0m\u001b[0mbuild\u001b[0m\u001b[0;34m(\u001b[0m\u001b[0munpack_singleton\u001b[0m\u001b[0;34m(\u001b[0m\u001b[0minput_shapes\u001b[0m\u001b[0;34m)\u001b[0m\u001b[0;34m)\u001b[0m\u001b[0;34m\u001b[0m\u001b[0;34m\u001b[0m\u001b[0m\n\u001b[0m\u001b[1;32m    464\u001b[0m                 \u001b[0mself\u001b[0m\u001b[0;34m.\u001b[0m\u001b[0mbuilt\u001b[0m \u001b[0;34m=\u001b[0m \u001b[0;32mTrue\u001b[0m\u001b[0;34m\u001b[0m\u001b[0;34m\u001b[0m\u001b[0m\n\u001b[1;32m    465\u001b[0m \u001b[0;34m\u001b[0m\u001b[0m\n",
      "\u001b[0;32m~/anaconda3/envs/learn/lib/python3.6/site-packages/keras/layers/embeddings.py\u001b[0m in \u001b[0;36mbuild\u001b[0;34m(self, input_shape)\u001b[0m\n\u001b[1;32m    110\u001b[0m             \u001b[0mregularizer\u001b[0m\u001b[0;34m=\u001b[0m\u001b[0mself\u001b[0m\u001b[0;34m.\u001b[0m\u001b[0membeddings_regularizer\u001b[0m\u001b[0;34m,\u001b[0m\u001b[0;34m\u001b[0m\u001b[0;34m\u001b[0m\u001b[0m\n\u001b[1;32m    111\u001b[0m             \u001b[0mconstraint\u001b[0m\u001b[0;34m=\u001b[0m\u001b[0mself\u001b[0m\u001b[0;34m.\u001b[0m\u001b[0membeddings_constraint\u001b[0m\u001b[0;34m,\u001b[0m\u001b[0;34m\u001b[0m\u001b[0;34m\u001b[0m\u001b[0m\n\u001b[0;32m--> 112\u001b[0;31m             dtype=self.dtype)\n\u001b[0m\u001b[1;32m    113\u001b[0m         \u001b[0mself\u001b[0m\u001b[0;34m.\u001b[0m\u001b[0mbuilt\u001b[0m \u001b[0;34m=\u001b[0m \u001b[0;32mTrue\u001b[0m\u001b[0;34m\u001b[0m\u001b[0;34m\u001b[0m\u001b[0m\n\u001b[1;32m    114\u001b[0m \u001b[0;34m\u001b[0m\u001b[0m\n",
      "\u001b[0;32m~/anaconda3/envs/learn/lib/python3.6/site-packages/keras/engine/base_layer.py\u001b[0m in \u001b[0;36madd_weight\u001b[0;34m(self, name, shape, dtype, initializer, regularizer, trainable, constraint)\u001b[0m\n\u001b[1;32m    277\u001b[0m         \u001b[0;32mif\u001b[0m \u001b[0mdtype\u001b[0m \u001b[0;32mis\u001b[0m \u001b[0;32mNone\u001b[0m\u001b[0;34m:\u001b[0m\u001b[0;34m\u001b[0m\u001b[0;34m\u001b[0m\u001b[0m\n\u001b[1;32m    278\u001b[0m             \u001b[0mdtype\u001b[0m \u001b[0;34m=\u001b[0m \u001b[0mself\u001b[0m\u001b[0;34m.\u001b[0m\u001b[0mdtype\u001b[0m\u001b[0;34m\u001b[0m\u001b[0;34m\u001b[0m\u001b[0m\n\u001b[0;32m--> 279\u001b[0;31m         weight = K.variable(initializer(shape, dtype=dtype),\n\u001b[0m\u001b[1;32m    280\u001b[0m                             \u001b[0mdtype\u001b[0m\u001b[0;34m=\u001b[0m\u001b[0mdtype\u001b[0m\u001b[0;34m,\u001b[0m\u001b[0;34m\u001b[0m\u001b[0;34m\u001b[0m\u001b[0m\n\u001b[1;32m    281\u001b[0m                             \u001b[0mname\u001b[0m\u001b[0;34m=\u001b[0m\u001b[0mname\u001b[0m\u001b[0;34m,\u001b[0m\u001b[0;34m\u001b[0m\u001b[0;34m\u001b[0m\u001b[0m\n",
      "\u001b[0;32m~/anaconda3/envs/learn/lib/python3.6/site-packages/keras/initializers.py\u001b[0m in \u001b[0;36m__call__\u001b[0;34m(self, shape, dtype)\u001b[0m\n\u001b[1;32m    113\u001b[0m     \u001b[0;32mdef\u001b[0m \u001b[0m__call__\u001b[0m\u001b[0;34m(\u001b[0m\u001b[0mself\u001b[0m\u001b[0;34m,\u001b[0m \u001b[0mshape\u001b[0m\u001b[0;34m,\u001b[0m \u001b[0mdtype\u001b[0m\u001b[0;34m=\u001b[0m\u001b[0;32mNone\u001b[0m\u001b[0;34m)\u001b[0m\u001b[0;34m:\u001b[0m\u001b[0;34m\u001b[0m\u001b[0;34m\u001b[0m\u001b[0m\n\u001b[1;32m    114\u001b[0m         x = K.random_uniform(shape, self.minval, self.maxval,\n\u001b[0;32m--> 115\u001b[0;31m                              dtype=dtype, seed=self.seed)\n\u001b[0m\u001b[1;32m    116\u001b[0m         \u001b[0;32mif\u001b[0m \u001b[0mself\u001b[0m\u001b[0;34m.\u001b[0m\u001b[0mseed\u001b[0m \u001b[0;32mis\u001b[0m \u001b[0;32mnot\u001b[0m \u001b[0;32mNone\u001b[0m\u001b[0;34m:\u001b[0m\u001b[0;34m\u001b[0m\u001b[0;34m\u001b[0m\u001b[0m\n\u001b[1;32m    117\u001b[0m             \u001b[0mself\u001b[0m\u001b[0;34m.\u001b[0m\u001b[0mseed\u001b[0m \u001b[0;34m+=\u001b[0m \u001b[0;36m1\u001b[0m\u001b[0;34m\u001b[0m\u001b[0;34m\u001b[0m\u001b[0m\n",
      "\u001b[0;32m~/anaconda3/envs/learn/lib/python3.6/site-packages/keras/backend/tensorflow_backend.py\u001b[0m in \u001b[0;36mrandom_uniform\u001b[0;34m(shape, minval, maxval, dtype, seed)\u001b[0m\n\u001b[1;32m   4355\u001b[0m     \u001b[0;32mwith\u001b[0m \u001b[0mtf_ops\u001b[0m\u001b[0;34m.\u001b[0m\u001b[0minit_scope\u001b[0m\u001b[0;34m(\u001b[0m\u001b[0;34m)\u001b[0m\u001b[0;34m:\u001b[0m\u001b[0;34m\u001b[0m\u001b[0;34m\u001b[0m\u001b[0m\n\u001b[1;32m   4356\u001b[0m         return tf_keras_backend.random_uniform(\n\u001b[0;32m-> 4357\u001b[0;31m             shape, minval=minval, maxval=maxval, dtype=dtype, seed=seed)\n\u001b[0m\u001b[1;32m   4358\u001b[0m \u001b[0;34m\u001b[0m\u001b[0m\n\u001b[1;32m   4359\u001b[0m \u001b[0;34m\u001b[0m\u001b[0m\n",
      "\u001b[0;32m~/anaconda3/envs/learn/lib/python3.6/site-packages/tensorflow/python/keras/backend.py\u001b[0m in \u001b[0;36mrandom_uniform\u001b[0;34m(shape, minval, maxval, dtype, seed)\u001b[0m\n\u001b[1;32m   5684\u001b[0m     \u001b[0mseed\u001b[0m \u001b[0;34m=\u001b[0m \u001b[0mnp\u001b[0m\u001b[0;34m.\u001b[0m\u001b[0mrandom\u001b[0m\u001b[0;34m.\u001b[0m\u001b[0mrandint\u001b[0m\u001b[0;34m(\u001b[0m\u001b[0;36m10e6\u001b[0m\u001b[0;34m)\u001b[0m\u001b[0;34m\u001b[0m\u001b[0;34m\u001b[0m\u001b[0m\n\u001b[1;32m   5685\u001b[0m   return random_ops.random_uniform(\n\u001b[0;32m-> 5686\u001b[0;31m       shape, minval=minval, maxval=maxval, dtype=dtype, seed=seed)\n\u001b[0m\u001b[1;32m   5687\u001b[0m \u001b[0;34m\u001b[0m\u001b[0m\n\u001b[1;32m   5688\u001b[0m \u001b[0;34m\u001b[0m\u001b[0m\n",
      "\u001b[0;32m~/anaconda3/envs/learn/lib/python3.6/site-packages/tensorflow/python/ops/random_ops.py\u001b[0m in \u001b[0;36mrandom_uniform\u001b[0;34m(shape, minval, maxval, dtype, seed, name)\u001b[0m\n\u001b[1;32m    280\u001b[0m     \u001b[0mmaxval\u001b[0m \u001b[0;34m=\u001b[0m \u001b[0;36m1\u001b[0m\u001b[0;34m\u001b[0m\u001b[0;34m\u001b[0m\u001b[0m\n\u001b[1;32m    281\u001b[0m   \u001b[0;32mwith\u001b[0m \u001b[0mops\u001b[0m\u001b[0;34m.\u001b[0m\u001b[0mname_scope\u001b[0m\u001b[0;34m(\u001b[0m\u001b[0mname\u001b[0m\u001b[0;34m,\u001b[0m \u001b[0;34m\"random_uniform\"\u001b[0m\u001b[0;34m,\u001b[0m \u001b[0;34m[\u001b[0m\u001b[0mshape\u001b[0m\u001b[0;34m,\u001b[0m \u001b[0mminval\u001b[0m\u001b[0;34m,\u001b[0m \u001b[0mmaxval\u001b[0m\u001b[0;34m]\u001b[0m\u001b[0;34m)\u001b[0m \u001b[0;32mas\u001b[0m \u001b[0mname\u001b[0m\u001b[0;34m:\u001b[0m\u001b[0;34m\u001b[0m\u001b[0;34m\u001b[0m\u001b[0m\n\u001b[0;32m--> 282\u001b[0;31m     \u001b[0mshape\u001b[0m \u001b[0;34m=\u001b[0m \u001b[0mtensor_util\u001b[0m\u001b[0;34m.\u001b[0m\u001b[0mshape_tensor\u001b[0m\u001b[0;34m(\u001b[0m\u001b[0mshape\u001b[0m\u001b[0;34m)\u001b[0m\u001b[0;34m\u001b[0m\u001b[0;34m\u001b[0m\u001b[0m\n\u001b[0m\u001b[1;32m    283\u001b[0m     \u001b[0;31m# In case of [0,1) floating results, minval and maxval is unused. We do an\u001b[0m\u001b[0;34m\u001b[0m\u001b[0;34m\u001b[0m\u001b[0;34m\u001b[0m\u001b[0m\n\u001b[1;32m    284\u001b[0m     \u001b[0;31m# `is` comparison here since this is cheaper than isinstance or  __eq__.\u001b[0m\u001b[0;34m\u001b[0m\u001b[0;34m\u001b[0m\u001b[0;34m\u001b[0m\u001b[0m\n",
      "\u001b[0;32m~/anaconda3/envs/learn/lib/python3.6/site-packages/tensorflow/python/framework/tensor_util.py\u001b[0m in \u001b[0;36mshape_tensor\u001b[0;34m(shape)\u001b[0m\n\u001b[1;32m   1013\u001b[0m       \u001b[0;31m# not convertible to Tensors because of mixed content.\u001b[0m\u001b[0;34m\u001b[0m\u001b[0;34m\u001b[0m\u001b[0;34m\u001b[0m\u001b[0m\n\u001b[1;32m   1014\u001b[0m       \u001b[0mshape\u001b[0m \u001b[0;34m=\u001b[0m \u001b[0mtuple\u001b[0m\u001b[0;34m(\u001b[0m\u001b[0mmap\u001b[0m\u001b[0;34m(\u001b[0m\u001b[0mtensor_shape\u001b[0m\u001b[0;34m.\u001b[0m\u001b[0mdimension_value\u001b[0m\u001b[0;34m,\u001b[0m \u001b[0mshape\u001b[0m\u001b[0;34m)\u001b[0m\u001b[0;34m)\u001b[0m\u001b[0;34m\u001b[0m\u001b[0;34m\u001b[0m\u001b[0m\n\u001b[0;32m-> 1015\u001b[0;31m   \u001b[0;32mreturn\u001b[0m \u001b[0mops\u001b[0m\u001b[0;34m.\u001b[0m\u001b[0mconvert_to_tensor\u001b[0m\u001b[0;34m(\u001b[0m\u001b[0mshape\u001b[0m\u001b[0;34m,\u001b[0m \u001b[0mdtype\u001b[0m\u001b[0;34m=\u001b[0m\u001b[0mdtype\u001b[0m\u001b[0;34m,\u001b[0m \u001b[0mname\u001b[0m\u001b[0;34m=\u001b[0m\u001b[0;34m\"shape\"\u001b[0m\u001b[0;34m)\u001b[0m\u001b[0;34m\u001b[0m\u001b[0;34m\u001b[0m\u001b[0m\n\u001b[0m\u001b[1;32m   1016\u001b[0m \u001b[0;34m\u001b[0m\u001b[0m\n\u001b[1;32m   1017\u001b[0m \u001b[0;34m\u001b[0m\u001b[0m\n",
      "\u001b[0;32m~/anaconda3/envs/learn/lib/python3.6/site-packages/tensorflow/python/framework/ops.py\u001b[0m in \u001b[0;36mconvert_to_tensor\u001b[0;34m(value, dtype, name, as_ref, preferred_dtype, dtype_hint, ctx, accepted_result_types)\u001b[0m\n\u001b[1;32m   1339\u001b[0m \u001b[0;34m\u001b[0m\u001b[0m\n\u001b[1;32m   1340\u001b[0m     \u001b[0;32mif\u001b[0m \u001b[0mret\u001b[0m \u001b[0;32mis\u001b[0m \u001b[0;32mNone\u001b[0m\u001b[0;34m:\u001b[0m\u001b[0;34m\u001b[0m\u001b[0;34m\u001b[0m\u001b[0m\n\u001b[0;32m-> 1341\u001b[0;31m       \u001b[0mret\u001b[0m \u001b[0;34m=\u001b[0m \u001b[0mconversion_func\u001b[0m\u001b[0;34m(\u001b[0m\u001b[0mvalue\u001b[0m\u001b[0;34m,\u001b[0m \u001b[0mdtype\u001b[0m\u001b[0;34m=\u001b[0m\u001b[0mdtype\u001b[0m\u001b[0;34m,\u001b[0m \u001b[0mname\u001b[0m\u001b[0;34m=\u001b[0m\u001b[0mname\u001b[0m\u001b[0;34m,\u001b[0m \u001b[0mas_ref\u001b[0m\u001b[0;34m=\u001b[0m\u001b[0mas_ref\u001b[0m\u001b[0;34m)\u001b[0m\u001b[0;34m\u001b[0m\u001b[0;34m\u001b[0m\u001b[0m\n\u001b[0m\u001b[1;32m   1342\u001b[0m \u001b[0;34m\u001b[0m\u001b[0m\n\u001b[1;32m   1343\u001b[0m     \u001b[0;32mif\u001b[0m \u001b[0mret\u001b[0m \u001b[0;32mis\u001b[0m \u001b[0mNotImplemented\u001b[0m\u001b[0;34m:\u001b[0m\u001b[0;34m\u001b[0m\u001b[0;34m\u001b[0m\u001b[0m\n",
      "\u001b[0;32m~/anaconda3/envs/learn/lib/python3.6/site-packages/tensorflow/python/framework/constant_op.py\u001b[0m in \u001b[0;36m_constant_tensor_conversion_function\u001b[0;34m(v, dtype, name, as_ref)\u001b[0m\n\u001b[1;32m    319\u001b[0m                                          as_ref=False):\n\u001b[1;32m    320\u001b[0m   \u001b[0m_\u001b[0m \u001b[0;34m=\u001b[0m \u001b[0mas_ref\u001b[0m\u001b[0;34m\u001b[0m\u001b[0;34m\u001b[0m\u001b[0m\n\u001b[0;32m--> 321\u001b[0;31m   \u001b[0;32mreturn\u001b[0m \u001b[0mconstant\u001b[0m\u001b[0;34m(\u001b[0m\u001b[0mv\u001b[0m\u001b[0;34m,\u001b[0m \u001b[0mdtype\u001b[0m\u001b[0;34m=\u001b[0m\u001b[0mdtype\u001b[0m\u001b[0;34m,\u001b[0m \u001b[0mname\u001b[0m\u001b[0;34m=\u001b[0m\u001b[0mname\u001b[0m\u001b[0;34m)\u001b[0m\u001b[0;34m\u001b[0m\u001b[0;34m\u001b[0m\u001b[0m\n\u001b[0m\u001b[1;32m    322\u001b[0m \u001b[0;34m\u001b[0m\u001b[0m\n\u001b[1;32m    323\u001b[0m \u001b[0;34m\u001b[0m\u001b[0m\n",
      "\u001b[0;32m~/anaconda3/envs/learn/lib/python3.6/site-packages/tensorflow/python/framework/constant_op.py\u001b[0m in \u001b[0;36mconstant\u001b[0;34m(value, dtype, shape, name)\u001b[0m\n\u001b[1;32m    260\u001b[0m   \"\"\"\n\u001b[1;32m    261\u001b[0m   return _constant_impl(value, dtype, shape, name, verify_shape=False,\n\u001b[0;32m--> 262\u001b[0;31m                         allow_broadcast=True)\n\u001b[0m\u001b[1;32m    263\u001b[0m \u001b[0;34m\u001b[0m\u001b[0m\n\u001b[1;32m    264\u001b[0m \u001b[0;34m\u001b[0m\u001b[0m\n",
      "\u001b[0;32m~/anaconda3/envs/learn/lib/python3.6/site-packages/tensorflow/python/framework/constant_op.py\u001b[0m in \u001b[0;36m_constant_impl\u001b[0;34m(value, dtype, shape, name, verify_shape, allow_broadcast)\u001b[0m\n\u001b[1;32m    268\u001b[0m   \u001b[0mctx\u001b[0m \u001b[0;34m=\u001b[0m \u001b[0mcontext\u001b[0m\u001b[0;34m.\u001b[0m\u001b[0mcontext\u001b[0m\u001b[0;34m(\u001b[0m\u001b[0;34m)\u001b[0m\u001b[0;34m\u001b[0m\u001b[0;34m\u001b[0m\u001b[0m\n\u001b[1;32m    269\u001b[0m   \u001b[0;32mif\u001b[0m \u001b[0mctx\u001b[0m\u001b[0;34m.\u001b[0m\u001b[0mexecuting_eagerly\u001b[0m\u001b[0;34m(\u001b[0m\u001b[0;34m)\u001b[0m\u001b[0;34m:\u001b[0m\u001b[0;34m\u001b[0m\u001b[0;34m\u001b[0m\u001b[0m\n\u001b[0;32m--> 270\u001b[0;31m     \u001b[0mt\u001b[0m \u001b[0;34m=\u001b[0m \u001b[0mconvert_to_eager_tensor\u001b[0m\u001b[0;34m(\u001b[0m\u001b[0mvalue\u001b[0m\u001b[0;34m,\u001b[0m \u001b[0mctx\u001b[0m\u001b[0;34m,\u001b[0m \u001b[0mdtype\u001b[0m\u001b[0;34m)\u001b[0m\u001b[0;34m\u001b[0m\u001b[0;34m\u001b[0m\u001b[0m\n\u001b[0m\u001b[1;32m    271\u001b[0m     \u001b[0;32mif\u001b[0m \u001b[0mshape\u001b[0m \u001b[0;32mis\u001b[0m \u001b[0;32mNone\u001b[0m\u001b[0;34m:\u001b[0m\u001b[0;34m\u001b[0m\u001b[0;34m\u001b[0m\u001b[0m\n\u001b[1;32m    272\u001b[0m       \u001b[0;32mreturn\u001b[0m \u001b[0mt\u001b[0m\u001b[0;34m\u001b[0m\u001b[0;34m\u001b[0m\u001b[0m\n",
      "\u001b[0;32m~/anaconda3/envs/learn/lib/python3.6/site-packages/tensorflow/python/framework/constant_op.py\u001b[0m in \u001b[0;36mconvert_to_eager_tensor\u001b[0;34m(value, ctx, dtype)\u001b[0m\n\u001b[1;32m     93\u001b[0m     \u001b[0;32mexcept\u001b[0m \u001b[0mAttributeError\u001b[0m\u001b[0;34m:\u001b[0m\u001b[0;34m\u001b[0m\u001b[0;34m\u001b[0m\u001b[0m\n\u001b[1;32m     94\u001b[0m       \u001b[0mdtype\u001b[0m \u001b[0;34m=\u001b[0m \u001b[0mdtypes\u001b[0m\u001b[0;34m.\u001b[0m\u001b[0mas_dtype\u001b[0m\u001b[0;34m(\u001b[0m\u001b[0mdtype\u001b[0m\u001b[0;34m)\u001b[0m\u001b[0;34m.\u001b[0m\u001b[0mas_datatype_enum\u001b[0m\u001b[0;34m\u001b[0m\u001b[0;34m\u001b[0m\u001b[0m\n\u001b[0;32m---> 95\u001b[0;31m   \u001b[0mctx\u001b[0m\u001b[0;34m.\u001b[0m\u001b[0mensure_initialized\u001b[0m\u001b[0;34m(\u001b[0m\u001b[0;34m)\u001b[0m\u001b[0;34m\u001b[0m\u001b[0;34m\u001b[0m\u001b[0m\n\u001b[0m\u001b[1;32m     96\u001b[0m   \u001b[0;32mreturn\u001b[0m \u001b[0mops\u001b[0m\u001b[0;34m.\u001b[0m\u001b[0mEagerTensor\u001b[0m\u001b[0;34m(\u001b[0m\u001b[0mvalue\u001b[0m\u001b[0;34m,\u001b[0m \u001b[0mctx\u001b[0m\u001b[0;34m.\u001b[0m\u001b[0mdevice_name\u001b[0m\u001b[0;34m,\u001b[0m \u001b[0mdtype\u001b[0m\u001b[0;34m)\u001b[0m\u001b[0;34m\u001b[0m\u001b[0;34m\u001b[0m\u001b[0m\n\u001b[1;32m     97\u001b[0m \u001b[0;34m\u001b[0m\u001b[0m\n",
      "\u001b[0;32m~/anaconda3/envs/learn/lib/python3.6/site-packages/tensorflow/python/eager/context.py\u001b[0m in \u001b[0;36mensure_initialized\u001b[0;34m(self)\u001b[0m\n\u001b[1;32m    513\u001b[0m           pywrap_tfe.TFE_ContextOptionsSetLazyRemoteInputsCopy(\n\u001b[1;32m    514\u001b[0m               opts, self._lazy_remote_inputs_copy)\n\u001b[0;32m--> 515\u001b[0;31m         \u001b[0mcontext_handle\u001b[0m \u001b[0;34m=\u001b[0m \u001b[0mpywrap_tfe\u001b[0m\u001b[0;34m.\u001b[0m\u001b[0mTFE_NewContext\u001b[0m\u001b[0;34m(\u001b[0m\u001b[0mopts\u001b[0m\u001b[0;34m)\u001b[0m\u001b[0;34m\u001b[0m\u001b[0;34m\u001b[0m\u001b[0m\n\u001b[0m\u001b[1;32m    516\u001b[0m       \u001b[0;32mfinally\u001b[0m\u001b[0;34m:\u001b[0m\u001b[0;34m\u001b[0m\u001b[0;34m\u001b[0m\u001b[0m\n\u001b[1;32m    517\u001b[0m         \u001b[0mpywrap_tfe\u001b[0m\u001b[0;34m.\u001b[0m\u001b[0mTFE_DeleteContextOptions\u001b[0m\u001b[0;34m(\u001b[0m\u001b[0mopts\u001b[0m\u001b[0;34m)\u001b[0m\u001b[0;34m\u001b[0m\u001b[0;34m\u001b[0m\u001b[0m\n",
      "\u001b[0;31mKeyboardInterrupt\u001b[0m: "
     ]
    }
   ],
   "source": [
    "from keras.models import Sequential\n",
    "from keras import layers\n",
    "\n",
    "embedding_dim = 50\n",
    "\n",
    "model = Sequential()\n",
    "model.add(layers.Embedding(input_dim=vocab_size, \n",
    "                           output_dim=embedding_dim, \n",
    "                           input_length=maxlen))\n",
    "model.add(layers.Flatten())\n",
    "model.add(layers.Dense(10, activation='relu'))\n",
    "model.add(layers.Dense(1, activation='sigmoid'))\n",
    "model.compile(optimizer='adam',\n",
    "              loss='binary_crossentropy',\n",
    "              metrics=['accuracy'])\n",
    "model.summary()"
   ]
  },
  {
   "cell_type": "code",
   "execution_count": null,
   "metadata": {
    "Collapsed": "false",
    "colab": {
     "base_uri": "https://localhost:8080/",
     "height": 1000
    },
    "colab_type": "code",
    "executionInfo": {
     "elapsed": 218016,
     "status": "ok",
     "timestamp": 1593429887034,
     "user": {
      "displayName": "Pedro Araujo",
      "photoUrl": "https://lh3.googleusercontent.com/a-/AOh14GgaaA6a8dClaQ5PVOJQQFwKI6GGX6XilWU9ykwRzA=s64",
      "userId": "16555094592329535647"
     },
     "user_tz": -60
    },
    "id": "ZNC0z0qOP89P",
    "outputId": "329cc2b5-ee1f-4720-e1d4-ed914e46f586"
   },
   "outputs": [],
   "source": [
    "history = model.fit(X_train, y_train,\n",
    "                    epochs=10,\n",
    "                    verbose=True,\n",
    "                    validation_data=(X_test, y_test),\n",
    "                    callbacks = [early_stopping],\n",
    "                    batch_size=256)\n",
    "\n",
    "loss, accuracy = model.evaluate(X_train, y_train, verbose=False)\n",
    "print(\"Training Accuracy: {:.4f}\".format(accuracy))\n",
    "loss, accuracy = model.evaluate(X_test, y_test, verbose=False)\n",
    "print(\"Testing Accuracy:  {:.4f}\".format(accuracy))"
   ]
  },
  {
   "cell_type": "markdown",
   "metadata": {
    "Collapsed": "false",
    "colab_type": "text",
    "id": "I6dxzoizFIXY"
   },
   "source": [
    "## With maxpooling"
   ]
  },
  {
   "cell_type": "code",
   "execution_count": null,
   "metadata": {
    "Collapsed": "false",
    "colab": {
     "base_uri": "https://localhost:8080/",
     "height": 301
    },
    "colab_type": "code",
    "executionInfo": {
     "elapsed": 605068,
     "status": "ok",
     "timestamp": 1593195557656,
     "user": {
      "displayName": "Pedro Araujo",
      "photoUrl": "https://lh3.googleusercontent.com/a-/AOh14GgaaA6a8dClaQ5PVOJQQFwKI6GGX6XilWU9ykwRzA=s64",
      "userId": "16555094592329535647"
     },
     "user_tz": -60
    },
    "id": "iiJiZAqEP8_i",
    "outputId": "525fc6ec-af21-47b1-96bf-7febdca46359"
   },
   "outputs": [
    {
     "name": "stdout",
     "output_type": "stream",
     "text": [
      "Model: \"sequential_2\"\n",
      "_________________________________________________________________\n",
      "Layer (type)                 Output Shape              Param #   \n",
      "=================================================================\n",
      "embedding_2 (Embedding)      (None, 3000, 50)          83250     \n",
      "_________________________________________________________________\n",
      "global_max_pooling1d_1 (Glob (None, 50)                0         \n",
      "_________________________________________________________________\n",
      "dense_3 (Dense)              (None, 10)                510       \n",
      "_________________________________________________________________\n",
      "dense_4 (Dense)              (None, 1)                 11        \n",
      "=================================================================\n",
      "Total params: 83,771\n",
      "Trainable params: 83,771\n",
      "Non-trainable params: 0\n",
      "_________________________________________________________________\n"
     ]
    }
   ],
   "source": [
    "model = Sequential()\n",
    "model.add(layers.Embedding(input_dim=vocab_size, \n",
    "                           output_dim=embedding_dim, \n",
    "                           input_length=maxlen))\n",
    "model.add(layers.GlobalMaxPool1D())\n",
    "model.add(layers.Dense(10, activation='relu'))\n",
    "model.add(layers.Dense(1, activation='sigmoid'))\n",
    "model.compile(optimizer='adam',\n",
    "              loss='binary_crossentropy',\n",
    "              metrics=['accuracy'])\n",
    "model.summary()"
   ]
  },
  {
   "cell_type": "code",
   "execution_count": null,
   "metadata": {
    "Collapsed": "false",
    "colab": {
     "base_uri": "https://localhost:8080/",
     "height": 1000
    },
    "colab_type": "code",
    "executionInfo": {
     "elapsed": 1279189,
     "status": "ok",
     "timestamp": 1593196231787,
     "user": {
      "displayName": "Pedro Araujo",
      "photoUrl": "https://lh3.googleusercontent.com/a-/AOh14GgaaA6a8dClaQ5PVOJQQFwKI6GGX6XilWU9ykwRzA=s64",
      "userId": "16555094592329535647"
     },
     "user_tz": -60
    },
    "id": "eOanJp88P9Cf",
    "outputId": "9b68db8d-43bd-4373-ad60-8687767e03f1"
   },
   "outputs": [
    {
     "name": "stderr",
     "output_type": "stream",
     "text": [
      "/usr/local/lib/python3.6/dist-packages/tensorflow/python/framework/indexed_slices.py:434: UserWarning: Converting sparse IndexedSlices to a dense Tensor of unknown shape. This may consume a large amount of memory.\n",
      "  \"Converting sparse IndexedSlices to a dense Tensor of unknown shape. \"\n"
     ]
    },
    {
     "name": "stdout",
     "output_type": "stream",
     "text": [
      "Train on 77607 samples, validate on 25869 samples\n",
      "Epoch 1/50\n",
      "77607/77607 [==============================] - 14s 176us/step - loss: 0.6563 - accuracy: 0.6011 - val_loss: 0.5980 - val_accuracy: 0.7160\n",
      "Epoch 2/50\n",
      "77607/77607 [==============================] - 13s 171us/step - loss: 0.5590 - accuracy: 0.7253 - val_loss: 0.5459 - val_accuracy: 0.7292\n",
      "Epoch 3/50\n",
      "77607/77607 [==============================] - 13s 171us/step - loss: 0.5344 - accuracy: 0.7366 - val_loss: 0.5371 - val_accuracy: 0.7371\n",
      "Epoch 4/50\n",
      "77607/77607 [==============================] - 13s 170us/step - loss: 0.5280 - accuracy: 0.7423 - val_loss: 0.5351 - val_accuracy: 0.7392\n",
      "Epoch 5/50\n",
      "77607/77607 [==============================] - 13s 171us/step - loss: 0.5233 - accuracy: 0.7468 - val_loss: 0.5323 - val_accuracy: 0.7412\n",
      "Epoch 6/50\n",
      "77607/77607 [==============================] - 13s 171us/step - loss: 0.5188 - accuracy: 0.7497 - val_loss: 0.5266 - val_accuracy: 0.7480\n",
      "Epoch 7/50\n",
      "77607/77607 [==============================] - 13s 171us/step - loss: 0.5139 - accuracy: 0.7524 - val_loss: 0.5232 - val_accuracy: 0.7430\n",
      "Epoch 8/50\n",
      "77607/77607 [==============================] - 13s 171us/step - loss: 0.5100 - accuracy: 0.7550 - val_loss: 0.5203 - val_accuracy: 0.7508\n",
      "Epoch 9/50\n",
      "77607/77607 [==============================] - 13s 171us/step - loss: 0.5066 - accuracy: 0.7581 - val_loss: 0.5196 - val_accuracy: 0.7521\n",
      "Epoch 10/50\n",
      "77607/77607 [==============================] - 13s 171us/step - loss: 0.5042 - accuracy: 0.7601 - val_loss: 0.5184 - val_accuracy: 0.7532\n",
      "Epoch 11/50\n",
      "77607/77607 [==============================] - 13s 171us/step - loss: 0.5020 - accuracy: 0.7609 - val_loss: 0.5180 - val_accuracy: 0.7536\n",
      "Epoch 12/50\n",
      "77607/77607 [==============================] - 13s 170us/step - loss: 0.5005 - accuracy: 0.7624 - val_loss: 0.5171 - val_accuracy: 0.7534\n",
      "Epoch 13/50\n",
      "77607/77607 [==============================] - 13s 171us/step - loss: 0.4992 - accuracy: 0.7630 - val_loss: 0.5163 - val_accuracy: 0.7542\n",
      "Epoch 14/50\n",
      "77607/77607 [==============================] - 13s 170us/step - loss: 0.4974 - accuracy: 0.7648 - val_loss: 0.5162 - val_accuracy: 0.7536\n",
      "Epoch 15/50\n",
      "77607/77607 [==============================] - 13s 170us/step - loss: 0.4960 - accuracy: 0.7665 - val_loss: 0.5166 - val_accuracy: 0.7536\n",
      "Epoch 16/50\n",
      "77607/77607 [==============================] - 13s 171us/step - loss: 0.4951 - accuracy: 0.7666 - val_loss: 0.5162 - val_accuracy: 0.7552\n",
      "Epoch 17/50\n",
      "77607/77607 [==============================] - 13s 171us/step - loss: 0.4935 - accuracy: 0.7678 - val_loss: 0.5167 - val_accuracy: 0.7507\n",
      "Epoch 18/50\n",
      "77607/77607 [==============================] - 13s 171us/step - loss: 0.4925 - accuracy: 0.7686 - val_loss: 0.5150 - val_accuracy: 0.7504\n",
      "Epoch 19/50\n",
      "77607/77607 [==============================] - 13s 172us/step - loss: 0.4912 - accuracy: 0.7695 - val_loss: 0.5152 - val_accuracy: 0.7552\n",
      "Epoch 20/50\n",
      "77607/77607 [==============================] - 13s 171us/step - loss: 0.4906 - accuracy: 0.7694 - val_loss: 0.5155 - val_accuracy: 0.7510\n",
      "Epoch 21/50\n",
      "77607/77607 [==============================] - 13s 172us/step - loss: 0.4896 - accuracy: 0.7706 - val_loss: 0.5158 - val_accuracy: 0.7512\n",
      "Epoch 22/50\n",
      "77607/77607 [==============================] - 13s 173us/step - loss: 0.4884 - accuracy: 0.7711 - val_loss: 0.5143 - val_accuracy: 0.7569\n",
      "Epoch 23/50\n",
      "77607/77607 [==============================] - 13s 171us/step - loss: 0.4874 - accuracy: 0.7723 - val_loss: 0.5162 - val_accuracy: 0.7574\n",
      "Epoch 24/50\n",
      "77607/77607 [==============================] - 13s 171us/step - loss: 0.4869 - accuracy: 0.7724 - val_loss: 0.5149 - val_accuracy: 0.7528\n",
      "Epoch 25/50\n",
      "77607/77607 [==============================] - 13s 172us/step - loss: 0.4856 - accuracy: 0.7735 - val_loss: 0.5153 - val_accuracy: 0.7525\n",
      "Epoch 26/50\n",
      "77607/77607 [==============================] - 13s 171us/step - loss: 0.4848 - accuracy: 0.7747 - val_loss: 0.5142 - val_accuracy: 0.7567\n",
      "Epoch 27/50\n",
      "77607/77607 [==============================] - 13s 171us/step - loss: 0.4842 - accuracy: 0.7743 - val_loss: 0.5149 - val_accuracy: 0.7567\n",
      "Epoch 28/50\n",
      "77607/77607 [==============================] - 13s 171us/step - loss: 0.4831 - accuracy: 0.7754 - val_loss: 0.5148 - val_accuracy: 0.7572\n",
      "Epoch 29/50\n",
      "77607/77607 [==============================] - 13s 171us/step - loss: 0.4824 - accuracy: 0.7759 - val_loss: 0.5136 - val_accuracy: 0.7567\n",
      "Epoch 30/50\n",
      "77607/77607 [==============================] - 13s 171us/step - loss: 0.4815 - accuracy: 0.7768 - val_loss: 0.5127 - val_accuracy: 0.7573\n",
      "Epoch 31/50\n",
      "77607/77607 [==============================] - 13s 171us/step - loss: 0.4804 - accuracy: 0.7776 - val_loss: 0.5134 - val_accuracy: 0.7540\n",
      "Epoch 32/50\n",
      "77607/77607 [==============================] - 13s 171us/step - loss: 0.4795 - accuracy: 0.7784 - val_loss: 0.5133 - val_accuracy: 0.7573\n",
      "Epoch 33/50\n",
      "77607/77607 [==============================] - 13s 171us/step - loss: 0.4789 - accuracy: 0.7789 - val_loss: 0.5138 - val_accuracy: 0.7563\n",
      "Epoch 34/50\n",
      "77607/77607 [==============================] - 13s 171us/step - loss: 0.4777 - accuracy: 0.7798 - val_loss: 0.5128 - val_accuracy: 0.7585\n",
      "Epoch 35/50\n",
      "77607/77607 [==============================] - 13s 170us/step - loss: 0.4770 - accuracy: 0.7796 - val_loss: 0.5118 - val_accuracy: 0.7585\n",
      "Epoch 36/50\n",
      "77607/77607 [==============================] - 13s 171us/step - loss: 0.4758 - accuracy: 0.7810 - val_loss: 0.5124 - val_accuracy: 0.7592\n",
      "Epoch 37/50\n",
      "77607/77607 [==============================] - 13s 171us/step - loss: 0.4755 - accuracy: 0.7816 - val_loss: 0.5126 - val_accuracy: 0.7585\n",
      "Epoch 38/50\n",
      "77607/77607 [==============================] - 13s 171us/step - loss: 0.4746 - accuracy: 0.7810 - val_loss: 0.5134 - val_accuracy: 0.7605\n",
      "Epoch 39/50\n",
      "77607/77607 [==============================] - 13s 171us/step - loss: 0.4740 - accuracy: 0.7810 - val_loss: 0.5115 - val_accuracy: 0.7606\n",
      "Epoch 40/50\n",
      "77607/77607 [==============================] - 13s 171us/step - loss: 0.4728 - accuracy: 0.7824 - val_loss: 0.5120 - val_accuracy: 0.7586\n",
      "Epoch 41/50\n",
      "77607/77607 [==============================] - 13s 171us/step - loss: 0.4728 - accuracy: 0.7820 - val_loss: 0.5109 - val_accuracy: 0.7608\n",
      "Epoch 42/50\n",
      "77607/77607 [==============================] - 13s 171us/step - loss: 0.4717 - accuracy: 0.7826 - val_loss: 0.5121 - val_accuracy: 0.7598\n",
      "Epoch 43/50\n",
      "77607/77607 [==============================] - 13s 171us/step - loss: 0.4710 - accuracy: 0.7827 - val_loss: 0.5115 - val_accuracy: 0.7615\n",
      "Epoch 44/50\n",
      "77607/77607 [==============================] - 13s 171us/step - loss: 0.4709 - accuracy: 0.7831 - val_loss: 0.5126 - val_accuracy: 0.7604\n",
      "Epoch 45/50\n",
      "77607/77607 [==============================] - 13s 173us/step - loss: 0.4698 - accuracy: 0.7836 - val_loss: 0.5125 - val_accuracy: 0.7603\n",
      "Epoch 46/50\n",
      "77607/77607 [==============================] - 13s 171us/step - loss: 0.4694 - accuracy: 0.7838 - val_loss: 0.5134 - val_accuracy: 0.7594\n",
      "Epoch 47/50\n",
      "77607/77607 [==============================] - 13s 171us/step - loss: 0.4693 - accuracy: 0.7841 - val_loss: 0.5122 - val_accuracy: 0.7594\n",
      "Epoch 48/50\n",
      "77607/77607 [==============================] - 13s 171us/step - loss: 0.4685 - accuracy: 0.7842 - val_loss: 0.5140 - val_accuracy: 0.7602\n",
      "Epoch 49/50\n",
      "77607/77607 [==============================] - 13s 171us/step - loss: 0.4685 - accuracy: 0.7846 - val_loss: 0.5143 - val_accuracy: 0.7594\n",
      "Epoch 50/50\n",
      "77607/77607 [==============================] - 13s 170us/step - loss: 0.4674 - accuracy: 0.7852 - val_loss: 0.5128 - val_accuracy: 0.7619\n",
      "Training Accuracy: 0.7873\n",
      "Testing Accuracy:  0.7619\n"
     ]
    },
    {
     "data": {
      "image/png": "[encoded data removed]",
      "text/plain": [
       "<Figure size 864x360 with 2 Axes>"
      ]
     },
     "metadata": {
      "tags": []
     },
     "output_type": "display_data"
    }
   ],
   "source": [
    "history = model.fit(X_train, y_train,\n",
    "                    epochs=10,\n",
    "                    verbose=True,\n",
    "                    validation_data=(X_test, y_test),\n",
    "                    callbacks = [early_stopping],\n",
    "                    batch_size=256)\n",
    "\n",
    "loss, accuracy = model.evaluate(X_train, y_train, verbose=False)\n",
    "print(\"Training Accuracy: {:.4f}\".format(accuracy))\n",
    "loss, accuracy = model.evaluate(X_test, y_test, verbose=False)\n",
    "print(\"Testing Accuracy:  {:.4f}\".format(accuracy))"
   ]
  },
  {
   "cell_type": "markdown",
   "metadata": {
    "Collapsed": "false",
    "colab_type": "text",
    "id": "NTh6boP5FRXn"
   },
   "source": [
    "## Add a conv1d"
   ]
  },
  {
   "cell_type": "code",
   "execution_count": null,
   "metadata": {
    "Collapsed": "false",
    "colab": {
     "base_uri": "https://localhost:8080/",
     "height": 337
    },
    "colab_type": "code",
    "executionInfo": {
     "elapsed": 1279190,
     "status": "ok",
     "timestamp": 1593196231803,
     "user": {
      "displayName": "Pedro Araujo",
      "photoUrl": "https://lh3.googleusercontent.com/a-/AOh14GgaaA6a8dClaQ5PVOJQQFwKI6GGX6XilWU9ykwRzA=s64",
      "userId": "16555094592329535647"
     },
     "user_tz": -60
    },
    "id": "gl33oLgGHcgq",
    "outputId": "d12a8aba-68ed-4e0e-d856-6e83238cce6f"
   },
   "outputs": [],
   "source": [
    "model = Sequential()\n",
    "model.add(layers.Embedding(vocab_size, embedding_dim, input_length=maxlen))\n",
    "model.add(layers.Conv1D(128, 5, activation='relu'))\n",
    "model.add(layers.GlobalMaxPooling1D())\n",
    "model.add(layers.Dense(10, activation='relu'))\n",
    "model.add(layers.Dense(1, activation='sigmoid'))\n",
    "model.compile(optimizer='adam',\n",
    "              loss='binary_crossentropy',\n",
    "              metrics=METRICS)\n",
    "model.summary()"
   ]
  },
  {
   "cell_type": "code",
   "execution_count": null,
   "metadata": {
    "Collapsed": "false",
    "colab": {
     "base_uri": "https://localhost:8080/",
     "height": 1000
    },
    "colab_type": "code",
    "executionInfo": {
     "elapsed": 3062623,
     "status": "ok",
     "timestamp": 1593198015245,
     "user": {
      "displayName": "Pedro Araujo",
      "photoUrl": "https://lh3.googleusercontent.com/a-/AOh14GgaaA6a8dClaQ5PVOJQQFwKI6GGX6XilWU9ykwRzA=s64",
      "userId": "16555094592329535647"
     },
     "user_tz": -60
    },
    "id": "NkwhX-sNRY_k",
    "outputId": "a413fe64-9527-48d0-995a-86936d764a70"
   },
   "outputs": [],
   "source": [
    "history = model.fit(X_train, y_train,\n",
    "                    epochs=30,\n",
    "                    verbose=True,\n",
    "                    validation_data=(X_test, y_test),\n",
    "                    callbacks = [early_stopping],\n",
    "                    batch_size=256)\n",
    "\n",
    "#loss, accuracy = model.evaluate(X_train, y_train, verbose=False)\n",
    "#print(\"Training Accuracy: {:.4f}\".format(accuracy))\n",
    "#loss, accuracy = model.evaluate(X_test, y_test, verbose=False)\n",
    "#print(\"Testing Accuracy:  {:.4f}\".format(accuracy))\n",
    "#plot_history(history)"
   ]
  },
  {
   "cell_type": "code",
   "execution_count": null,
   "metadata": {
    "Collapsed": "false",
    "colab": {
     "base_uri": "https://localhost:8080/",
     "height": 408
    },
    "colab_type": "code",
    "executionInfo": {
     "elapsed": 3091910,
     "status": "ok",
     "timestamp": 1593198044542,
     "user": {
      "displayName": "Pedro Araujo",
      "photoUrl": "https://lh3.googleusercontent.com/a-/AOh14GgaaA6a8dClaQ5PVOJQQFwKI6GGX6XilWU9ykwRzA=s64",
      "userId": "16555094592329535647"
     },
     "user_tz": -60
    },
    "id": "eJgEoHFjx_e9",
    "outputId": "7eeadbd1-3215-4a35-df2f-c72dc5e6ff88"
   },
   "outputs": [],
   "source": [
    "loss, accuracy, auc = model.evaluate(X_train, y_train, verbose=False)\n",
    "print(\"Training Accuracy: {:.4f}\".format(accuracy))\n",
    "print(\"Training AUC: {:.4f}\".format(auc))\n",
    "loss, accuracy, auc = model.evaluate(X_test, y_test, verbose=False)\n",
    "print(\"Testing Accuracy:  {:.4f}\".format(accuracy))\n",
    "print(\"Testing AUC:  {:.4f}\".format(auc))\n",
    "plot_history(history)"
   ]
  },
  {
   "cell_type": "code",
   "execution_count": null,
   "metadata": {
    "Collapsed": "false",
    "colab": {
     "base_uri": "https://localhost:8080/",
     "height": 177
    },
    "colab_type": "code",
    "executionInfo": {
     "elapsed": 3103045,
     "status": "ok",
     "timestamp": 1593198055692,
     "user": {
      "displayName": "Pedro Araujo",
      "photoUrl": "https://lh3.googleusercontent.com/a-/AOh14GgaaA6a8dClaQ5PVOJQQFwKI6GGX6XilWU9ykwRzA=s64",
      "userId": "16555094592329535647"
     },
     "user_tz": -60
    },
    "id": "EJ9uYPqTRZDP",
    "outputId": "1701b48d-6550-42cc-f57b-4ded38338f0f"
   },
   "outputs": [],
   "source": [
    "from sklearn.metrics import classification_report\n",
    "\n",
    "y_pred = model.predict_classes(X_test)\n",
    "print(classification_report(y_test, y_pred))"
   ]
  },
  {
   "cell_type": "code",
   "execution_count": null,
   "metadata": {
    "Collapsed": "false",
    "colab": {},
    "colab_type": "code",
    "id": "zfOrrICWRZLC"
   },
   "outputs": [],
   "source": []
  },
  {
   "cell_type": "code",
   "execution_count": 12,
   "metadata": {
    "Collapsed": "false",
    "colab": {},
    "colab_type": "code",
    "executionInfo": {
     "elapsed": 669,
     "status": "ok",
     "timestamp": 1593430724870,
     "user": {
      "displayName": "Pedro Araujo",
      "photoUrl": "https://lh3.googleusercontent.com/a-/AOh14GgaaA6a8dClaQ5PVOJQQFwKI6GGX6XilWU9ykwRzA=s64",
      "userId": "16555094592329535647"
     },
     "user_tz": -60
    },
    "id": "Wv_AI-Q93toU"
   },
   "outputs": [],
   "source": []
  },
  {
   "cell_type": "code",
   "execution_count": null,
   "metadata": {
    "Collapsed": "false",
    "colab": {},
    "colab_type": "code",
    "id": "K_rkGcoR3tt4"
   },
   "outputs": [],
   "source": []
  },
  {
   "cell_type": "code",
   "execution_count": null,
   "metadata": {
    "Collapsed": "false",
    "colab": {},
    "colab_type": "code",
    "id": "6srqkIKj3txN"
   },
   "outputs": [],
   "source": []
  },
  {
   "cell_type": "code",
   "execution_count": null,
   "metadata": {
    "Collapsed": "false",
    "colab": {},
    "colab_type": "code",
    "id": "fuMYdleC3tsh"
   },
   "outputs": [],
   "source": []
  },
  {
   "cell_type": "code",
   "execution_count": null,
   "metadata": {
    "Collapsed": "false",
    "colab": {},
    "colab_type": "code",
    "id": "jQijVHcQRZNJ"
   },
   "outputs": [],
   "source": []
  }
 ],
 "metadata": {
  "accelerator": "GPU",
  "colab": {
   "authorship_tag": "ABX9TyPQe+aL2qtALlqbEpgtsj4K",
   "name": "03-test_some_nets.ipynb",
   "provenance": []
  },
  "kernelspec": {
   "display_name": "learn",
   "language": "python",
   "name": "learn"
  },
  "language_info": {
   "codemirror_mode": {
    "name": "ipython",
    "version": 3
   },
   "file_extension": ".py",
   "mimetype": "text/x-python",
   "name": "python",
   "nbconvert_exporter": "python",
   "pygments_lexer": "ipython3",
   "version": "3.6.10"
  }
 },
 "nbformat": 4,
 "nbformat_minor": 4
}
